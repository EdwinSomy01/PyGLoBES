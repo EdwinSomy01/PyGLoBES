{
 "cells": [
  {
   "cell_type": "code",
   "execution_count": 73,
   "id": "00fa6b64-4262-4749-932b-7d533e49a442",
   "metadata": {},
   "outputs": [],
   "source": [
    "# ## load AEDL// xsec // fluxx filess...\n",
    "\n",
    "\n"
   ]
  },
  {
   "cell_type": "code",
   "execution_count": null,
   "id": "7612eabb-19bc-4da2-97d0-affd6d2ebdf6",
   "metadata": {},
   "outputs": [],
   "source": []
  },
  {
   "cell_type": "markdown",
   "id": "f7b19192-d48a-4e1c-abf2-8b1c1a50a3b7",
   "metadata": {},
   "source": [
    "# Parsing AEDL file here  ... to dict\n",
    "\n"
   ]
  },
  {
   "cell_type": "code",
   "execution_count": 74,
   "id": "4279f4bf-947c-4b31-9504-e0461f0133f2",
   "metadata": {},
   "outputs": [],
   "source": [
    "## parsing glb file...to a dictionary type\n",
    "\n",
    "import re\n",
    "\n",
    "def strip_comments(line):\n",
    "    # Remove inline C-style and C++-style comments\n",
    "    line = re.sub(r\"/\\*.*?\\*/\", \"\", line)\n",
    "    line = re.sub(r\"//.*\", \"\", line)\n",
    "\n",
    "    # Remove whole line if it starts with #\n",
    "    if re.match(r\"\\s*#\", line):\n",
    "        return \"\"\n",
    "    return line\n",
    "\n",
    "def parse_glb(path):\n",
    "    with open(path, \"r\") as f:\n",
    "        raw_lines = f.readlines()\n",
    "\n",
    "    lines = []\n",
    "    for line in raw_lines:\n",
    "        clean = strip_comments(line)\n",
    "        if clean.strip():\n",
    "            lines.append(clean.strip())\n",
    "\n",
    "    config = {}\n",
    "    current_block = {}\n",
    "    current_section = None\n",
    "    current_tag = None\n",
    "    inside_block = False\n",
    "\n",
    "    i = 0\n",
    "    while i < len(lines):\n",
    "        line = lines[i]\n",
    "\n",
    "        # Handle block start: inline e.g. nuflux(SPL)< \n",
    "        match_inline = re.match(r\"(\\w+)\\(#?([\\w\\-]+)\\)\\s*<\", line)\n",
    "        match_header = re.match(r\"(\\w+)\\(#?([\\w\\-]+)\\)\", line)\n",
    "\n",
    "        if not inside_block and match_inline:\n",
    "            current_section, current_tag = match_inline.groups()\n",
    "            current_block = {}\n",
    "            inside_block = True\n",
    "            i += 1\n",
    "            continue\n",
    "\n",
    "        elif not inside_block and match_header:\n",
    "            # Next line must be <\n",
    "            if i + 1 < len(lines) and lines[i + 1] == \"<\":\n",
    "                current_section, current_tag = match_header.groups()\n",
    "                current_block = {}\n",
    "                inside_block = True\n",
    "                i += 2\n",
    "                continue\n",
    "\n",
    "        # Handle end of block\n",
    "        if inside_block and line == \">\":\n",
    "            if current_section not in config:\n",
    "                config[current_section] = {}\n",
    "            config[current_section][current_tag] = current_block\n",
    "            current_block = {}\n",
    "            inside_block = False\n",
    "            i += 1\n",
    "            continue\n",
    "\n",
    "        # Parse key-value lines\n",
    "        kv_match = re.match(r\"[\\@\\$\\!]?(\\w+)\\s*=\\s*(.*)\", line)\n",
    "        if kv_match:\n",
    "            key, val = kv_match.groups()\n",
    "            val = val.strip().strip('\"')\n",
    "\n",
    "            # Try to convert to float\n",
    "            try:\n",
    "                val = float(val)\n",
    "            except ValueError:\n",
    "                pass\n",
    "\n",
    "            if inside_block:\n",
    "                current_block[key] = val\n",
    "            else:\n",
    "                config[key] = val\n",
    "\n",
    "        i += 1\n",
    "\n",
    "    return config\n",
    "\n"
   ]
  },
  {
   "cell_type": "code",
   "execution_count": 75,
   "id": "4d1cdbca-dd8b-45e7-90ac-c9416bcbeaad",
   "metadata": {},
   "outputs": [
    {
     "name": "stdout",
     "output_type": "stream",
     "text": [
      "{'version': '3.0.0', 'nuflux': {'SPLplus': {'flux_file': 'NuFluxP_GA.txt', 'time': 5.0, 'norm': 1.673e-07}, 'SPLminus': {'flux_file': 'NuFluxM_GA.txt', 'time': 5.0, 'norm': 1.673e-07}}, 'target_mass': '538/0.846445', 'sampling_points': 200.0, 'sampling_min': 0.0, 'sampling_max': 1.5, 'bins': 50.0, 'emin': 0.0, 'emax': 2.5, 'profiletype': 1.0, 'baseline': 360.0, 'filter_state': 0.0, 'filter_value': 0.05, 'energy': {'numucc_as_numucc': {'energy': 'include \"matrices/nu_as_nu/30/numu_cc_as_numu_cc.dat'}, 'numunc_as_numucc': {'energy': 'include \"matrices/nu_as_nu/30/numu_nc_as_numu_cc.dat'}, 'numucc_as_nuecc': {'energy': 'include \"matrices/nu_as_nu/30/numu_cc_as_nue_cc.dat'}, 'nuecc_as_nuecc': {'energy': 'include \"matrices/nu_as_nu/30/nue_cc_as_nue_cc.dat'}, 'numunc_as_nuecc': {'energy': 'include \"matrices/nu_as_nu/30/numu_nc_as_nue_cc.dat'}, 'nuecc_as_numucc': {'energy': 'include \"matrices/nu_as_nu/30/nue_cc_as_numu_cc.dat'}, 'anumucc_as_numucc': {'energy': 'include \"matrices/anu_as_nu/30/anumu_cc_as_numu_cc.dat'}, 'anumunc_as_numucc': {'energy': 'include \"matrices/anu_as_nu/30/anumu_nc_as_numu_cc.dat'}, 'anumucc_as_nuecc': {'energy': 'include \"matrices/anu_as_nu/30/anumu_cc_as_nue_cc.dat'}, 'anuecc_as_nuecc': {'energy': 'include \"matrices/anu_as_nu/30/anue_cc_as_nue_cc.dat'}, 'anumunc_as_nuecc': {'energy': 'include \"matrices/anu_as_nu/30/anumu_nc_as_nue_cc.dat'}, 'anuecc_as_numucc': {'energy': 'include \"matrices/anu_as_nu/30/anue_cc_as_numu_cc.dat'}, 'anumucc_as_anumucc': {'energy': 'include \"matrices/anu_as_anu/30/anumu_cc_as_anumu_cc.dat'}, 'anumunc_as_anumucc': {'energy': 'include \"matrices/anu_as_anu/30/anumu_nc_as_anumu_cc.dat'}, 'anumucc_as_anuecc': {'energy': 'include \"matrices/anu_as_anu/30/anumu_cc_as_anue_cc.dat'}, 'anuecc_as_anuecc': {'energy': 'include \"matrices/anu_as_anu/30/anue_cc_as_anue_cc.dat'}, 'anumunc_as_anuecc': {'energy': 'include \"matrices/anu_as_anu/30/anumu_nc_as_anue_cc.dat'}, 'anuecc_as_anumucc': {'energy': 'include \"matrices/anu_as_anu/30/anue_cc_as_anumu_cc.dat'}, 'numucc_as_anumucc': {'energy': 'include \"matrices/nu_as_anu/30/numu_cc_as_anumu_cc.dat'}, 'numunc_as_anumucc': {'energy': 'include \"matrices/nu_as_anu/30/numu_nc_as_anumu_cc.dat'}, 'numucc_as_anuecc': {'energy': 'include \"matrices/nu_as_anu/30/numu_cc_as_anue_cc.dat'}, 'nuecc_as_anuecc': {'energy': 'include \"matrices/nu_as_anu/30/nue_cc_as_anue_cc.dat'}, 'numunc_as_anuecc': {'energy': 'include \"matrices/nu_as_anu/30/numu_nc_as_anue_cc.dat'}, 'nuecc_as_anumucc': {'energy': 'include \"matrices/nu_as_anu/30/nue_cc_as_anumu_cc.dat'}}, 'cross': {'CC': {'cross_file': 'essnusb_xsec_CC-GENIE-3_00_06-G18_10a_00_000.txt'}, 'NC': {'cross_file': 'essnusb_xsec_NC-GENIE-3_00_06-G18_10a_00_000.txt'}}, 'channel': {'nue_appCC': {'channel': '#SPLplus:    +:    m:    e:    #CC:    #nuecc_as_nuecc'}, 'nue_Beam': {'channel': '#SPLplus:    +:    e:    e:    #CC:    #nuecc_as_nuecc'}, 'nubare_in_nue': {'channel': '#SPLplus:    -:    e:    e:    #CC:    #anuecc_as_nuecc'}, 'numu_miss_ID': {'channel': '#SPLplus:    +:    m:    m:    #CC:    #numucc_as_nuecc'}, 'numu_NC_bckg_plus': {'channel': '#SPLplus:    +:    NOSC_m: NOSC_m:    #NC:    #numunc_as_nuecc'}, 'numubar_NC_bckg_plus': {'channel': '#SPLplus:    -:    NOSC_m: NOSC_m:    #NC:    #anumunc_as_nuecc'}, 'nue_NC_bckg_plus': {'channel': '#SPLplus:    +:    NOSC_e: NOSC_e:    #NC:    #numunc_as_nuecc'}, 'numubar_to_nuebar_plus': {'channel': '#SPLplus:    -:    m:    e:    #CC:    #anuecc_as_nuecc'}, 'nue_to_numu_plus': {'channel': '#SPLplus:    +:    e:    m:    #CC:    #numucc_as_nuecc'}, 'numubar_to_numubar_plus': {'channel': '#SPLplus:    -:    m:    m:    #CC:    #anumucc_as_nuecc'}, 'nue_bar_appCC': {'channel': '#SPLminus:    -:    m:    e:    #CC:    #anuecc_as_anuecc'}, 'nue_bar_Beam': {'channel': '#SPLminus:    -:    e:    e:    #CC:    #anuecc_as_anuecc'}, 'nue_in_nubare': {'channel': '#SPLminus:    +:    e:    e:    #CC:    #nuecc_as_anuecc'}, 'numubar_NC_bckg_minus': {'channel': '#SPLminus:    -:    NOSC_m:    NOSC_m:    #NC:    #anumunc_as_anuecc'}, 'numu_NC_bckg_minus': {'channel': '#SPLminus:    +:    NOSC_m:    NOSC_m:    #NC:    #numunc_as_anuecc'}, 'numu_bar_miss_ID': {'channel': '#SPLminus:    -:    m:    m:    #CC:    #anumucc_as_anuecc'}, 'numu_to_nue_minus': {'channel': '#SPLminus:    +:    m:    e:    #CC:    #nuecc_as_anuecc'}, 'numu_miss_ID_minus': {'channel': '#SPLminus:    +:    m:    m:    #CC:    #numucc_as_anuecc'}, 'numu_disa_signal': {'channel': '#SPLplus:    +:    m:    m:    #CC:    #numucc_as_numucc'}, 'numu_bar_disa_signal': {'channel': '#SPLminus:    -:    m:    m:    #CC:    #anumucc_as_anumucc'}, 'nueasnumu_disa_bckg': {'channel': '#SPLplus:       +:      e:      e:     #CC:   #nuecc_as_numucc'}, 'nuebarasnumu_disa_bckg': {'channel': '#SPLminus:      -:      e:      e:     #CC:   #anuecc_as_anumucc'}, 'numu_disa_bckg': {'channel': '#SPLplus:       +:      NOSC_m:   NOSC_m: #NC:  #numunc_as_numucc'}, 'nue_disa_bckg': {'channel': '#SPLplus:       +:      NOSC_e:   NOSC_e: #NC:  #numunc_as_numucc'}, 'numu_bar_disa_bckg': {'channel': '#SPLplus:       -:      NOSC_m:   NOSC_m: #NC:  #anumunc_as_numucc'}, 'numubar_disa_bckg': {'channel': '#SPLminus:       -:      NOSC_m:   NOSC_m: #NC:  #anumunc_as_anumucc'}, 'nu_mu_disa_bckg': {'channel': '#SPLminus:       +:      NOSC_m:   NOSC_m: #NC:  #numunc_as_anumucc'}, 'nuebar_disa_bckg': {'channel': '#SPLminus:       -:      NOSC_e:   NOSC_e: #NC:  #anumunc_as_anumucc'}, 'numu_to_nueasnumu_disa_bckg': {'channel': '#SPLplus:       +:      m:      e:     #CC:   #nuecc_as_numucc'}, 'nue_to_numu_disa_bckg': {'channel': '#SPLplus:       +:      e:      m:     #CC:   #numucc_as_numucc'}, 'numubar_to_numubar_disa_bckg': {'channel': '#SPLplus:       -:      m:      m:     #CC:   #anumucc_as_numucc'}, 'nueasnumubar_disa_bckg': {'channel': '#SPLminus:      +:      m:      e:     #CC:   #nuecc_as_anumucc'}, 'numuasnumubar_disa_bckg': {'channel': '#SPLminus:      +:      m:      m:     #CC:   #numucc_as_anumucc'}, 'nue_to_nueasnumubar_disa_bckg': {'channel': '#SPLminus:      +:      e:      e:     #CC:   #nuecc_as_anumucc'}, 'numubar_to_nuebarasnumubar_disa_bckg': {'channel': '#SPLminus:      -:      m:      e:     #CC:   #anuecc_as_anumucc'}, 'nuebar_to_numubarasnumubar_disa_bckg': {'channel': '#SPLminus:      -:      e:      m:     #CC:   #anumucc_as_anumucc'}}, 'rule': {'NU_E_Appearance': {'signal': '1.0@#nue_appCC', 'signalerror': '0.05 : 0.0001', 'background': '1.0@#numu_miss_ID : 1.0@#nue_Beam : 1.0@#nubare_in_nue :', 'backgrounderror': '0.05 : 0.0001', 'sys_on_function': 'chiSpectrumTilt', 'sys_off_function': 'chiNoSysSpectrum', 'energy_window': '0.1 : 1.'}, 'NU_E_BAR_Appearance': {'signal': '1.0@#nue_bar_appCC', 'signalerror': '0.05 : 0.0001', 'background': '1.0@#numu_bar_miss_ID : 1.0@#nue_in_nubare : 1.0@#nue_bar_Beam', 'backgrounderror': '0.05 : 0.0001', 'sys_on_function': 'chiSpectrumTilt', 'sys_off_function': 'chiNoSysSpectrum', 'energy_window': '0.1 : 1.'}, 'NU_MU_Disappearance': {'signal': '1.0@#numu_disa_signal', 'signalerror': '0.05 : 0.0001', 'background': '1.0@#nueasnumu_disa_bckg : 1.0@#numu_disa_bckg : 1.0@#numu_to_nueasnumu_disa_bckg : 1.0@#nue_to_numu_disa_bckg : 1.0@#numubar_to_numubar_disa_bckg : 1.0@#nue_disa_bckg : 1.0@#numu_bar_disa_bckg', 'backgrounderror': '0.05 : 0.0001', 'sys_on_function': 'chiSpectrumTilt', 'sys_off_function': 'chiNoSysSpectrum', 'energy_window': '0.1 : 1.'}, 'NU_MU_BAR_Disapperance': {'signal': '1@#numu_bar_disa_signal', 'signalerror': '0.05 : 0.0001', 'background': '1.0@#nuebarasnumu_disa_bckg : 1.0@#numubar_disa_bckg : 1.0@#nueasnumubar_disa_bckg : 1.0@#numuasnumubar_disa_bckg : 1.0@#nue_to_nueasnumubar_disa_bckg : 1.0@#numubar_to_nuebarasnumubar_disa_bckg : 1.0@#nuebar_to_numubarasnumubar_disa_bckg : 1.0@#nu_mu_disa_bckg : 1.0@#nuebar_disa_bckg', 'backgrounderror': '0.05 : 0.0001', 'sys_on_function': 'chiSpectrumTilt', 'sys_off_function': 'chiNoSysSpectrum', 'energy_window': '0.1 : 1.'}}}\n"
     ]
    }
   ],
   "source": [
    "glb_config = parse_glb(\"data/ESS_360_5.glb\")\n",
    "print(glb_config)"
   ]
  },
  {
   "cell_type": "markdown",
   "id": "870edd9b-0fe4-48d8-a2d7-906db62faa03",
   "metadata": {},
   "source": [
    "# parsed AEDL dict .. to json\n",
    "\n"
   ]
  },
  {
   "cell_type": "code",
   "execution_count": 76,
   "id": "d0ddb963-a02a-4141-b924-c1ae248ec94b",
   "metadata": {},
   "outputs": [],
   "source": [
    "## makine json out out glb via dictionary\n",
    "\n",
    "\n",
    "\n",
    "import json\n",
    "\n",
    "# Suppose this is your parsed output\n",
    "parsed_data = parse_glb(\"data/ESS_360_5.glb\")\n",
    "\n",
    "# Write it to a JSON file\n",
    "with open(\"parsed_output1.json\", \"w\") as f:\n",
    "    json.dump(parsed_data, f, indent=2)\n"
   ]
  },
  {
   "cell_type": "code",
   "execution_count": null,
   "id": "e04611c9-42cf-476a-8db0-331fa5e92bad",
   "metadata": {},
   "outputs": [],
   "source": []
  },
  {
   "cell_type": "markdown",
   "id": "da42008d-9fbb-44d3-9024-7d0025cc224f",
   "metadata": {},
   "source": [
    "# Probability provider here \n"
   ]
  },
  {
   "cell_type": "code",
   "execution_count": 77,
   "id": "a972c788-839d-492e-84f8-d1875407cfad",
   "metadata": {},
   "outputs": [],
   "source": [
    "from nufast import Probability_Matter_LBL\n",
    "\n",
    "class MatterLBLProbabilityProvider:\n",
    "    def __init__(self, osc_params, rho=2.8, Ye=0.5, N_Newton=5):\n",
    "        self.params = osc_params\n",
    "        self.rho = rho\n",
    "        self.Ye = Ye\n",
    "        self.N_Newton = N_Newton\n",
    "\n",
    "    def get(self, init_flavor, final_flavor, energy, baseline):\n",
    "        result = Probability_Matter_LBL(\n",
    "            s12sq=self.params['s12sq'],\n",
    "            s13sq=self.params['s13sq'],\n",
    "            s23sq=self.params['s23sq'],\n",
    "            delta=self.params['delta'],\n",
    "            Dmsq21=self.params['Dmsq21'],\n",
    "            Dmsq31=self.params['Dmsq31'],\n",
    "            L=baseline,\n",
    "            E=energy,\n",
    "            rho=self.rho,\n",
    "            Ye=self.Ye,\n",
    "            N_Newton=self.N_Newton\n",
    "        )\n",
    "        return result[(init_flavor, final_flavor)]\n"
   ]
  },
  {
   "cell_type": "code",
   "execution_count": 78,
   "id": "e91e1e2e-9cf7-42ce-add1-5abc333e5581",
   "metadata": {},
   "outputs": [],
   "source": [
    "nufit_NO = {\n",
    "    's12sq': 0.304,         # sin^2(theta_12)\n",
    "    's13sq': 0.02225,       # sin^2(theta_13)\n",
    "    's23sq': 0.573,         # sin^2(theta_23)\n",
    "    'delta': 3.77,          # CP phase in radians (~1.2π)\n",
    "    'Dmsq21': 7.42e-5,      # Δm^2_21 in eV²\n",
    "    'Dmsq31': 2.517e-3      # Δm^2_31 (normal ordering) in eV²\n",
    "}\n"
   ]
  },
  {
   "cell_type": "code",
   "execution_count": 92,
   "id": "9c83222d-ca3b-4a3f-b3e9-93fc5f050231",
   "metadata": {},
   "outputs": [
    {
     "data": {
      "text/plain": [
       "array([1.48041854e-01, 1.14405421e-04, 2.86218077e-05, 1.27227337e-05,\n",
       "       7.15696378e-06, 4.58059643e-06, 3.18102743e-06, 2.33710914e-06,\n",
       "       1.78936408e-06, 1.41382720e-06])"
      ]
     },
     "execution_count": 92,
     "metadata": {},
     "output_type": "execute_result"
    }
   ],
   "source": [
    "provider = MatterLBLProbabilityProvider(nufit_NO,rho=2.8, Ye=0.5, N_Newton=5)\n",
    "e = np.linspace(0.1, 200, 10)\n",
    "provider.get('m', 'e', energy=e, baseline=360)\n",
    "# workssss"
   ]
  },
  {
   "cell_type": "markdown",
   "id": "166feb4f-fdab-4c57-bc33-0b0088f7c0e4",
   "metadata": {},
   "source": [
    "\n",
    "#  the FLUX loader \n"
   ]
  },
  {
   "cell_type": "code",
   "execution_count": 93,
   "id": "b9da0043-dd9f-4e72-9ca4-ac4fa821e124",
   "metadata": {},
   "outputs": [],
   "source": [
    "import numpy as np\n",
    "\n",
    "class FluxLoader:\n",
    "    def __init__(self, aedl_data):\n",
    "        self.flux_info = aedl_data['nuflux']\n",
    "       \n",
    "    def load(self, tag, flavor, energy):\n",
    "        \"\"\"\n",
    "        Load and interpolate flux for the given tag and flavor over the specified energy grid.\n",
    "        Arguments:\n",
    "            tag (str): e.g., 'SPLplus' or 'SPLminus'\n",
    "            flavor (str): e.g., 'e', 'm', 'NOSC_m' — currently unused, but can be used if flux files are flavor-dependent.\n",
    "            energy (np.ndarray): true energy grid to interpolate over\n",
    "\n",
    "        Returns:\n",
    "            np.ndarray: interpolated and normalized flux\n",
    "        \"\"\"\n",
    "        if tag not in self.flux_info:\n",
    "            raise ValueError(f\"Flux tag '{tag}' not found in AEDL JSON.\")\n",
    "\n",
    "        entry = self.flux_info[tag]\n",
    "        filename = entry['flux_file']\n",
    "        time = float(entry['time'])          # years\n",
    "        norm = float(entry['norm'])          # normalization factor\n",
    "\n",
    "################## unsure of this flavour map ..??\n",
    "        flavor_column_map = {\n",
    "                                'e': 1,         # νμ\n",
    "                                'm': 2,         # νe\n",
    "                                't': 3,         # ντ\n",
    "                                'ae': 4,        # anti-νμ\n",
    "                                'am': 5,        # anti-νe\n",
    "                                'at': 6         # anti-ντ\n",
    "                            }\n",
    "\n",
    "        \n",
    "        # Load file: assume columns = [energy (GeV), flux]\n",
    "        \n",
    "        flux_data = np.loadtxt(filename)\n",
    "        column = flavor_column_map.get(flavor)\n",
    "        if column is None:\n",
    "            raise ValueError(f\"Unsupported flavor: {flavor}\")\n",
    "        \n",
    "        energy_vals = flux_data[:, 0]\n",
    "        flux_vals = flux_data[:, column]\n",
    "\n",
    "        \n",
    "\n",
    "        # Interpolate to requested energy grid\n",
    "        flux_interp = np.interp(energy, energy_vals, flux_vals, left=0, right=0)  \n",
    "        # Apply norm and time scaling\n",
    "        return norm * time * flux_interp\n"
   ]
  },
  {
   "cell_type": "code",
   "execution_count": 94,
   "id": "5c89a092-fe8e-426a-ad3f-9e8f8252683f",
   "metadata": {},
   "outputs": [
    {
     "name": "stdout",
     "output_type": "stream",
     "text": [
      "Flux at 0.0 GeV in SPLplus mode = 0.0\n"
     ]
    },
    {
     "data": {
      "image/png": "[encoded data removed]",
      "text/plain": [
       "<Figure size 640x480 with 1 Axes>"
      ]
     },
     "metadata": {},
     "output_type": "display_data"
    }
   ],
   "source": [
    "## testin FLUX loader.. looks like it works  \n",
    "\n",
    "import numpy as np\n",
    "import json\n",
    "\n",
    "# Load the AEDL JSON data\n",
    "with open(\"parsed_output.json\") as f:\n",
    "    aedl_data = json.load(f)\n",
    "\n",
    "# Create the loader instance\n",
    "flux_loader = FluxLoader(aedl_data)\n",
    "\n",
    "# Pick a known channel and test with a sample energy\n",
    "tag = \"SPLplus\"           # or \"SPLminus\"\n",
    "flavor = \"m\"              # flavor is not used right now, but passed in\n",
    "\n",
    "sampling_points = int(aedl_data['sampling_points'])\n",
    "sampling_min = float(aedl_data['sampling_min'])\n",
    "sampling_max = float(aedl_data['sampling_max'])\n",
    "true_energy = np.linspace(sampling_min,sampling_max, sampling_points)\n",
    "\n",
    "# energy_val = 0.4          # test energy\n",
    "# energy_array = np.array([energy_val])\n",
    "energy_array= true_energy\n",
    "\n",
    "# Call the loader\n",
    "try:\n",
    "    flux = flux_loader.load(tag=tag, flavor=flavor, energy=energy_array)\n",
    "    print(f\"Flux at {energy_array[0]} GeV in {tag} mode = {flux[0]}\")\n",
    "    # print(f\"Flux at {energy_array[1]} GeV in {tag} mode = {flux[1]}\")\n",
    "    # print(f\"Flux at {energy_array[2]} GeV in {tag} mode = {flux[2]}\")\n",
    "except Exception as e:\n",
    "    print(\"Error:\", e)\n",
    "\n",
    "\n",
    "import matplotlib.pyplot as plt\n",
    "\n",
    "plt.plot(energy_array, flux)\n",
    "plt.xlabel(\"Energy (GeV) _sampling points\")\n",
    "plt.ylabel(\"Flux\")\n",
    "plt.title(f\"{tag} mode flux for flavor {flavor}\")\n",
    "plt.grid(True)\n",
    "plt.show()"
   ]
  },
  {
   "cell_type": "markdown",
   "id": "723ddc1c-21cf-4f78-8b43-2cb040b591b1",
   "metadata": {},
   "source": [
    "# cross section loader for channel"
   ]
  },
  {
   "cell_type": "code",
   "execution_count": 95,
   "id": "986fccdc-8aa4-4ff5-b9e5-53ce93088c9a",
   "metadata": {},
   "outputs": [],
   "source": [
    "import numpy as np\n",
    "\n",
    "class CrossSectionLoader:\n",
    "    def load(self, filename, flavor, energy):\n",
    "        \"\"\"\n",
    "        Load and interpolate neutrino cross section from a log10(E)-based file,\n",
    "        with xsec/E values. Returns total xsec in cm^2.\n",
    "\n",
    "        Args:\n",
    "            filename (str): path to the cross section file\n",
    "            flavor (str): 'e', 'm', 't', 'ae', 'am', 'at'\n",
    "            energy (np.ndarray): true energy grid in GeV\n",
    "\n",
    "        Returns:\n",
    "            np.ndarray: total cross section values in cm^2\n",
    "        \"\"\"\n",
    "\n",
    "        # Column mapping based on file structure\n",
    "        flavor_column_map = {\n",
    "            'e': 1,   # νe\n",
    "            'm': 2,   # νμ\n",
    "            't': 3,   # ντ\n",
    "            'ae': 4,  # anti-νe\n",
    "            'am': 5,  # anti-νμ\n",
    "            'at': 6   # anti-ντ\n",
    "        }\n",
    "\n",
    "        col = flavor_column_map.get(flavor)\n",
    "        if col is None:\n",
    "            raise ValueError(f\"Unsupported flavor: {flavor}\")\n",
    "\n",
    "        # Load data and convert log10(E) → E\n",
    "        raw = np.loadtxt(filename, comments=\"#\")\n",
    "        log10_E = raw[:, 0]\n",
    "        E_vals = 10 ** log10_E  # Energy in GeV\n",
    "        xsec_per_E = raw[:, col]  # xsec/E in 10^-38 cm^2 / GeV\n",
    "\n",
    "        # Compute total xsec = (xsec/E) × E\n",
    "        xsec_vals = xsec_per_E * E_vals\n",
    "\n",
    "        # Interpolate to requested energy grid\n",
    "        xsec_interp = np.interp(energy, E_vals, xsec_vals, left=0, right=0)\n",
    "\n",
    "        # Scale to cm² — already in 10^-38, so multiply by 1e-38 if needed\n",
    "        return xsec_interp * 1e-38\n"
   ]
  },
  {
   "cell_type": "code",
   "execution_count": 96,
   "id": "a8ac53aa-4647-4aa7-bdbb-e61a4ee31800",
   "metadata": {},
   "outputs": [
    {
     "data": {
      "image/png": "[encoded data removed]",
      "text/plain": [
       "<Figure size 640x480 with 1 Axes>"
      ]
     },
     "metadata": {},
     "output_type": "display_data"
    }
   ],
   "source": [
    "xsec_loader = CrossSectionLoader()\n",
    "\n",
    "\n",
    "xsec = xsec_loader.load(\n",
    "    filename=\"essnusb_xsec_CC-GENIE-3_00_06-G18_10a_00_000.txt\",\n",
    "    flavor=\"m\",\n",
    "    energy=true_energy\n",
    ")\n",
    "plt.plot(true_energy, xsec)\n",
    "plt.xlabel(\"Energy (GeV) _sampling points\")\n",
    "plt.ylabel(\"xsec\")\n",
    "plt.title(f\"{tag} mode xsec for flavor {flavor} in cm^2\")\n",
    "plt.grid(True)\n",
    "plt.show()"
   ]
  },
  {
   "cell_type": "code",
   "execution_count": null,
   "id": "b388bdea-004b-4772-a41d-d782f090d4b8",
   "metadata": {},
   "outputs": [],
   "source": []
  },
  {
   "cell_type": "markdown",
   "id": "09e2825a-12b0-48cc-a6a9-50d9ca7669dc",
   "metadata": {},
   "source": [
    "# smear loader for channel"
   ]
  },
  {
   "cell_type": "code",
   "execution_count": 97,
   "id": "7075edd5-e2a3-44b4-9854-849a8b28457b",
   "metadata": {},
   "outputs": [],
   "source": [
    "import numpy as np\n",
    "import os\n",
    "import re\n",
    "\n",
    "class SmearingMatrixLoader:\n",
    "    def __init__(self, base_path=None):\n",
    "        self.base_path = base_path\n",
    "        self.cache = {}\n",
    "    def load(self, smear_file):\n",
    "        path = os.path.join(self.base_path, smear_file) if self.base_path else smear_file\n",
    "    \n",
    "        if path in self.cache:\n",
    "            return self.cache[path]\n",
    "    \n",
    "        try:\n",
    "            with open(path) as f:\n",
    "                lines = f.readlines()\n",
    "    \n",
    "            matrix = []\n",
    "            for line in lines:\n",
    "                line = line.strip()\n",
    "                if not line.startswith(\"{\"):\n",
    "                    continue\n",
    "    \n",
    "                # Remove leading '{' and trailing '}', '};', or '}:'\n",
    "                if line.endswith(\"};\") or line.endswith(\"}:\"):\n",
    "                    line = line[1:-2]\n",
    "                elif line.endswith(\"}\"):\n",
    "                    line = line[1:-1]\n",
    "                else:\n",
    "                    line = line[1:]\n",
    "    \n",
    "                values = [float(x.strip()) for x in line.split(',') if x.strip()]\n",
    "                matrix.append(values)\n",
    "    \n",
    "            matrix = np.array(matrix)\n",
    "    \n",
    "        except Exception as e:\n",
    "            raise IOError(f\"Failed to load smearing matrix from '{path}': {e}\")\n",
    "    \n",
    "        self.cache[path] = matrix\n",
    "        return matrix\n",
    "\n",
    "\n"
   ]
  },
  {
   "cell_type": "code",
   "execution_count": 98,
   "id": "cdbe4216-b9e6-4d09-9c2a-07cd3708f187",
   "metadata": {},
   "outputs": [],
   "source": [
    "# smear_loader = SmearingMatrixLoader(base_path=None)  # or None if full path\n",
    "\n",
    "# # Load the smearing matrix for the given channel\n",
    "# smear_matrix = smear_loader.load(ch['smear_file'])\n",
    "# smear_matrix.shape\n",
    "# smear_matrix[-1],ch['smear_file']"
   ]
  },
  {
   "cell_type": "code",
   "execution_count": null,
   "id": "6bfe45d5-3640-4e0c-a7e8-11dacb3b5ac9",
   "metadata": {},
   "outputs": [],
   "source": []
  },
  {
   "cell_type": "code",
   "execution_count": null,
   "id": "e3487984-e0d0-4642-96f8-7ea3485c857c",
   "metadata": {},
   "outputs": [],
   "source": []
  },
  {
   "cell_type": "code",
   "execution_count": null,
   "id": "b1f42ab9-2632-4fd9-8baa-4ad045c17a3c",
   "metadata": {},
   "outputs": [],
   "source": []
  },
  {
   "cell_type": "markdown",
   "id": "1bce5cca-b1ee-4e55-9689-4f49a3c34465",
   "metadata": {},
   "source": [
    "\n",
    "#  a rate calculator \n"
   ]
  },
  {
   "cell_type": "code",
   "execution_count": null,
   "id": "f4e969ab-ec9d-4f0d-b964-14d7d405dcb2",
   "metadata": {},
   "outputs": [],
   "source": []
  },
  {
   "cell_type": "code",
   "execution_count": 103,
   "id": "9d3ec219-6cb6-4095-9f0a-321788d5a36e",
   "metadata": {},
   "outputs": [],
   "source": [
    "import numpy as np\n",
    "from collections import defaultdict\n",
    "\n",
    "class RateCalculator:\n",
    "    def __init__(self, aedl_data, flux_loader, cross_section_loader, smearing_loader, probability_provider):\n",
    "        self.data = aedl_data   # call from json\n",
    "        self.flux_loader = flux_loader\n",
    "        self.cross_section_loader = cross_section_loader\n",
    "        self.smearing_loader = smearing_loader\n",
    "        self.probability_provider = MatterLBLProbabilityProvider(nufit_NO)  #implemented\n",
    "\n",
    "        self.sampling_points = int(aedl_data['sampling_points'])\n",
    "        self.sampling_min = float(aedl_data['sampling_min'])\n",
    "        self.sampling_max = float(aedl_data['sampling_max'])\n",
    "        self.true_energy = np.linspace(self.sampling_min, self.sampling_max, self.sampling_points)\n",
    "\n",
    "        self.bins = int(aedl_data['bins'])\n",
    "        self.emin = float(aedl_data['emin'])\n",
    "        self.emax = float(aedl_data['emax'])\n",
    "        self.reco_energy = np.linspace(self.emin, self.emax, self.bins + 1)\n",
    "\n",
    "        self.target_mass = eval(aedl_data['target_mass'])  # in kt\n",
    "        self.N_Avogadro = 6.022e23\n",
    "        self.N_targets = self.target_mass * 1e3 * self.N_Avogadro  # converting kt to g\n",
    "\n",
    "        self.channels = self._parse_channels()\n",
    "\n",
    "    def _parse_channels(self):\n",
    "        channels = {}\n",
    "        for ch_name, ch_data in self.data['channel'].items():\n",
    "            tag = ch_data['channel'].replace('#', '').split(':')\n",
    "            flux_tag, polarity, init_flav, final_flav, int_type, smear_key = [t.strip() for t in tag]\n",
    "            smear_file = self.data['energy'][smear_key]['energy'].split('\"')[1]\n",
    "            xsec_file = self.data['cross'][int_type]['cross_file']\n",
    "    \n",
    "            channels[ch_name] = {\n",
    "                'flux_tag': flux_tag,\n",
    "                'polarity': polarity,\n",
    "                'init_flav': init_flav,\n",
    "                'final_flav': final_flav,\n",
    "                'int_type': int_type,\n",
    "                'smear_file': smear_file,\n",
    "                'xsec_file': xsec_file\n",
    "            }\n",
    "        return channels\n",
    "\n",
    "    \n",
    "    def smeared_rate_per_channel(self, ch, prob_table=None):\n",
    "        # --- Load flux ---\n",
    "        flux = self.flux_loader.load(\n",
    "            tag=ch['flux_tag'],\n",
    "            flavor=ch['init_flav'],\n",
    "            energy=self.true_energy\n",
    "        )\n",
    "    \n",
    "        # --- Get oscillation probability ---\n",
    "        prob = self.probability_provider.get(\n",
    "            init_flavor=ch['init_flav'],\n",
    "            final_flavor=ch['final_flav'],\n",
    "            energy=self.true_energy,\n",
    "            baseline=float(self.data['baseline'])\n",
    "        )\n",
    "    \n",
    "        # --- Apply probability to flux ---\n",
    "        flux *= prob\n",
    "    \n",
    "        # --- Load cross section ---\n",
    "        xsec = self.cross_section_loader.load(\n",
    "            ch['xsec_file'],\n",
    "            flavor=ch['final_flav'],\n",
    "            energy=self.true_energy\n",
    "        )\n",
    "    \n",
    "        # --- Compute interaction rate in true energy ---\n",
    "        rate_true = flux * xsec * self.N_targets\n",
    "    \n",
    "        # --- Apply smearing ---\n",
    "        smear_matrix = self.smearing_loader.load(ch['smear_file'])\n",
    "        # print(f\"rate_true shape: {rate_true.shape}\")\n",
    "        # print(f\"smear_matrix shape: {smear_matrix.shape}\")\n",
    "        rate_reco = smear_matrix @ rate_true\n",
    "       \n",
    "        return  rate_reco     #   rate_true\n",
    "\n",
    "\n",
    "\n"
   ]
  },
  {
   "cell_type": "code",
   "execution_count": 100,
   "id": "7949832d-fa5b-4cd6-9a6c-aeb2232b2f72",
   "metadata": {},
   "outputs": [],
   "source": [
    "# ch['smear_file']"
   ]
  },
  {
   "cell_type": "code",
   "execution_count": null,
   "id": "cefe25de-909a-4db6-a648-b65acfcfef58",
   "metadata": {},
   "outputs": [],
   "source": []
  },
  {
   "cell_type": "markdown",
   "id": "46dee0df-7355-4fb9-a084-13638ad001dc",
   "metadata": {},
   "source": [
    "# testing _parse_channels from   RateCalculator\n",
    "  # testing smeared_rate_per_channel from   RateCalculator"
   ]
  },
  {
   "cell_type": "code",
   "execution_count": 104,
   "id": "66917d68-bdfd-4b63-a626-a9765ee294e9",
   "metadata": {},
   "outputs": [
    {
     "ename": "ValueError",
     "evalue": "matmul: Input operand 1 has a mismatch in its core dimension 0, with gufunc signature (n?,k),(k,m?)->(n?,m?) (size 200 is different from 202)",
     "output_type": "error",
     "traceback": [
      "\u001b[31m---------------------------------------------------------------------------\u001b[39m",
      "\u001b[31mValueError\u001b[39m                                Traceback (most recent call last)",
      "\u001b[36mCell\u001b[39m\u001b[36m \u001b[39m\u001b[32mIn[104]\u001b[39m\u001b[32m, line 49\u001b[39m\n\u001b[32m     46\u001b[39m ch = rc.channels[\u001b[33m'\u001b[39m\u001b[33mnue_appCC\u001b[39m\u001b[33m'\u001b[39m] \n\u001b[32m     48\u001b[39m ch\n\u001b[32m---> \u001b[39m\u001b[32m49\u001b[39m rate = \u001b[43mrc\u001b[49m\u001b[43m.\u001b[49m\u001b[43msmeared_rate_per_channel\u001b[49m\u001b[43m(\u001b[49m\u001b[43mch\u001b[49m\u001b[43m)\u001b[49m\n\u001b[32m     51\u001b[39m \u001b[38;5;66;03m# Check the result\u001b[39;00m\n\u001b[32m     52\u001b[39m \u001b[38;5;28mprint\u001b[39m(\u001b[33mf\u001b[39m\u001b[33m\"\u001b[39m\u001b[33mSmeared rate shape: \u001b[39m\u001b[38;5;132;01m{\u001b[39;00mrate.shape\u001b[38;5;132;01m}\u001b[39;00m\u001b[33m\"\u001b[39m)\n",
      "\u001b[36mCell\u001b[39m\u001b[36m \u001b[39m\u001b[32mIn[103]\u001b[39m\u001b[32m, line 81\u001b[39m, in \u001b[36mRateCalculator.smeared_rate_per_channel\u001b[39m\u001b[34m(self, ch, prob_table)\u001b[39m\n\u001b[32m     78\u001b[39m smear_matrix = \u001b[38;5;28mself\u001b[39m.smearing_loader.load(ch[\u001b[33m'\u001b[39m\u001b[33msmear_file\u001b[39m\u001b[33m'\u001b[39m])\n\u001b[32m     79\u001b[39m \u001b[38;5;66;03m# print(f\"rate_true shape: {rate_true.shape}\")\u001b[39;00m\n\u001b[32m     80\u001b[39m \u001b[38;5;66;03m# print(f\"smear_matrix shape: {smear_matrix.shape}\")\u001b[39;00m\n\u001b[32m---> \u001b[39m\u001b[32m81\u001b[39m rate_reco = \u001b[43msmear_matrix\u001b[49m\u001b[43m \u001b[49m\u001b[43m@\u001b[49m\u001b[43m \u001b[49m\u001b[43mrate_true\u001b[49m\n\u001b[32m     83\u001b[39m \u001b[38;5;28;01mreturn\u001b[39;00m  rate_reco\n",
      "\u001b[31mValueError\u001b[39m: matmul: Input operand 1 has a mismatch in its core dimension 0, with gufunc signature (n?,k),(k,m?)->(n?,m?) (size 200 is different from 202)"
     ]
    }
   ],
   "source": [
    "# testing _parse_channels from   RateCalculator\n",
    "  # testing smeared_rate_per_channel from   RateCalculator\n",
    "\n",
    "\n",
    "import numpy as np\n",
    "import json\n",
    "\n",
    "with open(\"parsed_output.json\") as f:\n",
    "    aedl_data = json.load(f)\n",
    "\n",
    "nufit_NO = {\n",
    "    's12sq': 0.304,         # sin^2(theta_12)\n",
    "    's13sq': 0.02225,       # sin^2(theta_13)\n",
    "    's23sq': 0.573,         # sin^2(theta_23)\n",
    "    'delta': 3.77,          # CP phase in radians (~1.2π)\n",
    "    'Dmsq21': 7.42e-5,      # Δm^2_21 in eV²\n",
    "    'Dmsq31': 2.517e-3      # Δm^2_31 (normal ordering) in eV²\n",
    "}\n",
    "\n",
    "\n",
    "# smear_loader = SmearingMatrixLoader(base_path=None)  # or None if full path\n",
    "\n",
    "# # Load the smearing matrix for the given channel\n",
    "# smear_matrix = smear_loader.load(ch['smear_file'])\n",
    "# smear_matrix\n",
    "\n",
    "# Now instantiate your RateCalculator\n",
    "rc = RateCalculator(\n",
    "    aedl_data,\n",
    "    flux_loader=FluxLoader(aedl_data),\n",
    "    cross_section_loader=CrossSectionLoader(),\n",
    "    smearing_loader=SmearingMatrixLoader(base_path=None) ,\n",
    "    probability_provider=MatterLBLProbabilityProvider(nufit_NO)\n",
    ")\n",
    "\n",
    "# Print parsed channels to verify  \n",
    "from pprint import pprint\n",
    "# pprint(rc.channels)\n",
    "\n",
    "# for ch_name, ch in rc.channels.items():\n",
    "#     print(ch_name , \"  \" , ch['final_flav'] ,\"\")\n",
    "#     print(ch_name , \"  \" , ch['init_flav'] ,\" \\n\")\n",
    "\n",
    "# # rc.channels['nue_appCC']['final_flav']\n",
    "# # rc.channels['nue_appCC'] \n",
    "ch = rc.channels['nue_appCC'] \n",
    "\n",
    "ch\n",
    "rate = rc.smeared_rate_per_channel(ch)\n",
    "\n",
    "# Check the result\n",
    "print(f\"Smeared rate shape: {rate.shape}\")\n",
    "print(f\"First 10 values:\\n{rate[:10]}\")"
   ]
  },
  {
   "cell_type": "code",
   "execution_count": null,
   "id": "325b6a7c-3b30-4803-95b5-20d4f57b09c6",
   "metadata": {},
   "outputs": [],
   "source": []
  },
  {
   "cell_type": "code",
   "execution_count": 102,
   "id": "00adcff7-2f19-4148-9315-547ffd8cd42b",
   "metadata": {},
   "outputs": [
    {
     "data": {
      "text/plain": [
       "200"
      ]
     },
     "execution_count": 102,
     "metadata": {},
     "output_type": "execute_result"
    }
   ],
   "source": [
    "sampling_points = int(aedl_data['sampling_points'])\n",
    "sampling_points"
   ]
  },
  {
   "cell_type": "code",
   "execution_count": 90,
   "id": "bd1d7507-5c66-4202-9f46-c7c07a4c28f9",
   "metadata": {},
   "outputs": [
    {
     "data": {
      "text/plain": [
       "array([[0.00000e+00, 1.99000e+02, 0.00000e+00, ..., 0.00000e+00,\n",
       "        0.00000e+00, 0.00000e+00],\n",
       "       [0.00000e+00, 1.99000e+02, 0.00000e+00, ..., 0.00000e+00,\n",
       "        0.00000e+00, 0.00000e+00],\n",
       "       [0.00000e+00, 1.99000e+02, 0.00000e+00, ..., 1.00980e-04,\n",
       "        1.00980e-04, 1.00980e-04],\n",
       "       ...,\n",
       "       [0.00000e+00, 1.99000e+02, 0.00000e+00, ..., 1.36322e-03,\n",
       "        1.36322e-03, 1.36322e-03],\n",
       "       [0.00000e+00, 1.99000e+02, 0.00000e+00, ..., 1.41371e-03,\n",
       "        1.41371e-03, 1.41371e-03],\n",
       "       [0.00000e+00, 1.99000e+02, 0.00000e+00, ..., 1.21175e-03,\n",
       "        1.21175e-03, 1.21175e-03]], shape=(50, 202))"
      ]
     },
     "execution_count": 90,
     "metadata": {},
     "output_type": "execute_result"
    }
   ],
   "source": [
    "smear_loader = SmearingMatrixLoader(base_path=None)  # or None if full path\n",
    "\n",
    "# Load the smearing matrix for the given channel\n",
    "smear_matrix = smear_loader.load(ch['smear_file'])\n",
    "smear_matrix"
   ]
  },
  {
   "cell_type": "code",
   "execution_count": null,
   "id": "4d99d50c-70db-4525-9657-656d06cc7e40",
   "metadata": {},
   "outputs": [],
   "source": []
  },
  {
   "cell_type": "code",
   "execution_count": null,
   "id": "c40e9fc6-c32c-4a57-be33-68ac70b7ac4d",
   "metadata": {},
   "outputs": [],
   "source": []
  },
  {
   "cell_type": "code",
   "execution_count": null,
   "id": "aa2e721e-e2aa-4e6b-bb4e-3f9329f16511",
   "metadata": {},
   "outputs": [],
   "source": []
  },
  {
   "cell_type": "code",
   "execution_count": null,
   "id": "c90180e2-5560-4167-a198-ee6ac95983fc",
   "metadata": {},
   "outputs": [],
   "source": []
  },
  {
   "cell_type": "code",
   "execution_count": null,
   "id": "b0de84df-7fb7-436f-8e29-a06110fba1d5",
   "metadata": {},
   "outputs": [],
   "source": []
  },
  {
   "cell_type": "code",
   "execution_count": null,
   "id": "d74a0eb2-20c6-4192-a8b5-b857828ceae5",
   "metadata": {},
   "outputs": [],
   "source": []
  },
  {
   "cell_type": "code",
   "execution_count": null,
   "id": "f1af7391-0515-41a1-bb1f-9229078c995d",
   "metadata": {},
   "outputs": [],
   "source": []
  },
  {
   "cell_type": "code",
   "execution_count": null,
   "id": "00208607-313f-4fe4-a54b-c5c410f1cf4a",
   "metadata": {},
   "outputs": [],
   "source": []
  },
  {
   "cell_type": "code",
   "execution_count": null,
   "id": "d6fdb40a-6884-47f3-9305-13ed84363968",
   "metadata": {},
   "outputs": [],
   "source": []
  },
  {
   "cell_type": "code",
   "execution_count": null,
   "id": "20291c88-8b02-4292-8ae9-97789ecdfe98",
   "metadata": {},
   "outputs": [],
   "source": [
    "\n",
    "#### rule based calculation .. this one is the actuall stuffffff\n",
    "\n",
    "\n",
    "def compute_rule_event_rate(rule_name):\n",
    "    rule = rules[rule_name]\n",
    "    rate_reco = np.zeros(len(reconstructed_energy_bins))\n",
    "\n",
    "    # --- 1. Loop over signal channels ---\n",
    "    for entry in rule['signal']:\n",
    "        weight, ch_name = parse(entry)  # e.g., \"1.0@#nue_bar_appCC\"\n",
    "        ch = channels[ch_name]\n",
    "\n",
    "        rate_reco += weight * smeared_rate_per_channel(ch)\n",
    "\n",
    "    # --- 2. Loop over background channels ---\n",
    "    for entry in rule['background']:\n",
    "        weight, ch_name = parse(entry)  # e.g., \"1.0@#numu_bar_miss_ID\"\n",
    "        ch = channels[ch_name]\n",
    "\n",
    "        rate_reco += weight * smeared_rate_per_channel(ch)\n",
    "\n",
    "    # --- 3. Apply energy window ---\n",
    "    reco_energy = reconstructed_energy_bins  # assumed global or passed in\n",
    "    mask = (reco_energy >= rule['emin']) & (reco_energy <= rule['emax'])\n",
    "    rate_windowed = rate_reco[mask]\n",
    "\n",
    "    return rate_windowed"
   ]
  },
  {
   "cell_type": "code",
   "execution_count": null,
   "id": "d9bd7c07-295e-4775-8e88-6ee6d6bca52b",
   "metadata": {},
   "outputs": [],
   "source": []
  },
  {
   "cell_type": "code",
   "execution_count": 36,
   "id": "7958dc8b-c4ec-490c-86cb-bc49963cd30b",
   "metadata": {},
   "outputs": [
    {
     "data": {
      "text/plain": [
       "200"
      ]
     },
     "execution_count": 36,
     "metadata": {},
     "output_type": "execute_result"
    }
   ],
   "source": []
  },
  {
   "cell_type": "code",
   "execution_count": null,
   "id": "dd3aa835-8e98-4bee-94af-7ef1786ed5a5",
   "metadata": {},
   "outputs": [],
   "source": []
  },
  {
   "cell_type": "code",
   "execution_count": null,
   "id": "b8b7ddff-2457-4277-a895-e3deaeb5ffea",
   "metadata": {},
   "outputs": [],
   "source": []
  },
  {
   "cell_type": "code",
   "execution_count": null,
   "id": "f06fefd3-e0d5-4918-a950-2d41b3ecbf7c",
   "metadata": {},
   "outputs": [],
   "source": []
  },
  {
   "cell_type": "code",
   "execution_count": null,
   "id": "9923b5dc-bf37-4dd0-924c-8329387183be",
   "metadata": {},
   "outputs": [],
   "source": []
  },
  {
   "cell_type": "code",
   "execution_count": null,
   "id": "3ba812b0-344a-4251-acfe-a1d6df0edc80",
   "metadata": {},
   "outputs": [],
   "source": []
  },
  {
   "cell_type": "code",
   "execution_count": null,
   "id": "d448b3a8-9b6c-4937-86e1-5c237750f9b5",
   "metadata": {},
   "outputs": [],
   "source": []
  },
  {
   "cell_type": "code",
   "execution_count": 37,
   "id": "eb6fb50e-db3f-4818-b459-712d1b0436a1",
   "metadata": {},
   "outputs": [],
   "source": [
    "# import json\n",
    "\n",
    "# with open(\"parsed_output.json\") as f:\n",
    "#     aedl_data = json.load(f)\n",
    "\n",
    "\n",
    "\n"
   ]
  },
  {
   "cell_type": "code",
   "execution_count": null,
   "id": "8efa05c4-ce18-4478-b955-ee61f90e7ab5",
   "metadata": {},
   "outputs": [],
   "source": []
  }
 ],
 "metadata": {
  "kernelspec": {
   "display_name": "Python 3 (ipykernel)",
   "language": "python",
   "name": "python3"
  },
  "language_info": {
   "codemirror_mode": {
    "name": "ipython",
    "version": 3
   },
   "file_extension": ".py",
   "mimetype": "text/x-python",
   "name": "python",
   "nbconvert_exporter": "python",
   "pygments_lexer": "ipython3",
   "version": "3.13.2"
  }
 },
 "nbformat": 4,
 "nbformat_minor": 5
}
